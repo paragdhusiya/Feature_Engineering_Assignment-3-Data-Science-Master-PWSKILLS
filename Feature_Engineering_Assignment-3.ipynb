{
 "cells": [
  {
   "cell_type": "markdown",
   "metadata": {},
   "source": [
    "Q1. What is data encoding? How is it useful in data science?"
   ]
  },
  {
   "cell_type": "code",
   "execution_count": 1,
   "metadata": {},
   "outputs": [
    {
     "data": {
      "text/plain": [
       "\"\\n Data encoding is the process of converting data from one form to another. In data science, this transformation is vital for various purposes, such as preparing data for machine learning algorithms, reducing dimensionality, and ensuring compatibility with different tools. Here's a concise overview:\\n\\nPurpose of Data Encoding:\\n\\nAlgorithm Input Requirements: Many machine learning algorithms require numerical input. Encoding helps convert diverse data types into a format suitable for these algorithms.\\nReducing Dimensionality: Techniques like PCA or feature engineering, often involving encoding, help reduce data dimensionality while retaining essential information.\\nHandling Categorical Data: Algorithms operate more effectively with numerical representations, making encoding crucial for working with categorical data.\\nData Compatibility: Encoding ensures data is compatible with various tools, libraries, and models, facilitating interoperability in the data science workflow.\\nTypes of Data Encoding:\\n\\nNumeric Encoding: Assigning numerical values to categorical data.\\nText Encoding: Converting text data into numerical format.\\nImage Encoding: Preprocessing image data for analysis or storage.\\nTime Series Encoding: Representing time-dependent data for analysis.\\n\\n\""
      ]
     },
     "execution_count": 1,
     "metadata": {},
     "output_type": "execute_result"
    }
   ],
   "source": [
    "\"\"\"\n",
    " Data encoding is the process of converting data from one form to another. In data science, this transformation is vital for various purposes, such as preparing data for machine learning algorithms, reducing dimensionality, and ensuring compatibility with different tools. Here's a concise overview:\n",
    "\n",
    "Purpose of Data Encoding:\n",
    "\n",
    "Algorithm Input Requirements: Many machine learning algorithms require numerical input. Encoding helps convert diverse data types into a format suitable for these algorithms.\n",
    "Reducing Dimensionality: Techniques like PCA or feature engineering, often involving encoding, help reduce data dimensionality while retaining essential information.\n",
    "Handling Categorical Data: Algorithms operate more effectively with numerical representations, making encoding crucial for working with categorical data.\n",
    "Data Compatibility: Encoding ensures data is compatible with various tools, libraries, and models, facilitating interoperability in the data science workflow.\n",
    "Types of Data Encoding:\n",
    "\n",
    "Numeric Encoding: Assigning numerical values to categorical data.\n",
    "Text Encoding: Converting text data into numerical format.\n",
    "Image Encoding: Preprocessing image data for analysis or storage.\n",
    "Time Series Encoding: Representing time-dependent data for analysis.\n",
    "\n",
    "\"\"\""
   ]
  },
  {
   "cell_type": "markdown",
   "metadata": {},
   "source": [
    "Q2. What is nominal encoding? Provide an example of how you would use it in a real-world scenario."
   ]
  },
  {
   "cell_type": "code",
   "execution_count": 2,
   "metadata": {},
   "outputs": [
    {
     "name": "stdout",
     "output_type": "stream",
     "text": [
      "[('Apple', 1), ('Orange', 2), ('Banana', 3), ('Apple', 1), ('Banana', 3), ('Orange', 2)]\n"
     ]
    }
   ],
   "source": [
    "# Original data\n",
    "fruits = [\"Apple\", \"Orange\", \"Banana\", \"Apple\", \"Banana\", \"Orange\"]\n",
    "\n",
    "# Nominal encoding dictionary\n",
    "nominal_encoding = {fruit: label for label, fruit in enumerate(set(fruits), start=1)}\n",
    "\n",
    "# Applying nominal encoding to the dataset\n",
    "encoded_fruits = [nominal_encoding[fruit] for fruit in fruits]\n",
    "\n",
    "# Displaying the result\n",
    "result = list(zip(fruits, encoded_fruits))\n",
    "print(result)\n"
   ]
  },
  {
   "cell_type": "markdown",
   "metadata": {},
   "source": [
    "Q3. In what situations is nominal encoding preferred over one-hot encoding? Provide a practical example."
   ]
  },
  {
   "cell_type": "code",
   "execution_count": 3,
   "metadata": {},
   "outputs": [
    {
     "data": {
      "text/plain": [
       "'\\n\\nNominal encoding is preferred over one-hot encoding in certain situations, especially when dealing with categorical variables where the categories don\\'t have a meaningful ordinal relationship. Here are some situations where nominal encoding might be more appropriate:\\n\\nReducing Dimensionality:\\n\\nScenario: If a categorical variable has a large number of unique categories, using one-hot encoding could result in a dataset with a vast number of columns, leading to the curse of dimensionality.\\nExample: Consider a dataset with a \"Country\" variable, and there are 100 different countries. One-hot encoding would create 100 binary columns, making the dataset sparse and computationally expensive. Nominal encoding with unique numerical labels (1 to 100) can be more compact.\\nAvoiding Redundancy:\\n\\nScenario: When categories have a mutually exclusive relationship, meaning an observation can belong to only one category, one-hot encoding introduces redundancy since all columns are inherently correlated.\\nExample: In a dataset with a \"Day_of_Week\" variable (Monday, Tuesday, ..., Sunday), using one-hot encoding would create seven binary columns. However, each row can only have a single \"1\" in one of these columns, making the information redundant. Nominal encoding with numerical labels (1 to 7) suffices.\\nInterpretability and Simplicity:\\n\\nScenario: In cases where interpretability is essential, and the order of categories doesn\\'t carry meaningful information, nominal encoding provides a simpler representation.\\nExample: A \"Car_Model\" variable with categories like \"Sedan,\" \"SUV,\" and \"Hatchback\" might not have a natural order. Using nominal encoding (1 for Sedan, 2 for SUV, 3 for Hatchback) is more straightforward than one-hot encoding in this context.\\nHandling High Cardinality:\\n\\nScenario: Dealing with categorical variables with high cardinality (a large number of unique values) can be challenging with one-hot encoding due to increased dimensionality.\\nExample: A \"Product_ID\" variable in an e-commerce dataset might have thousands of unique products. One-hot encoding would result in a massive number of columns. Nominal encoding with numerical labels can be a more practical approach in such cases.\\n\\n'"
      ]
     },
     "execution_count": 3,
     "metadata": {},
     "output_type": "execute_result"
    }
   ],
   "source": [
    "\"\"\"\n",
    "\n",
    "Nominal encoding is preferred over one-hot encoding in certain situations, especially when dealing with categorical variables where the categories don't have a meaningful ordinal relationship. Here are some situations where nominal encoding might be more appropriate:\n",
    "\n",
    "Reducing Dimensionality:\n",
    "\n",
    "Scenario: If a categorical variable has a large number of unique categories, using one-hot encoding could result in a dataset with a vast number of columns, leading to the curse of dimensionality.\n",
    "Example: Consider a dataset with a \"Country\" variable, and there are 100 different countries. One-hot encoding would create 100 binary columns, making the dataset sparse and computationally expensive. Nominal encoding with unique numerical labels (1 to 100) can be more compact.\n",
    "Avoiding Redundancy:\n",
    "\n",
    "Scenario: When categories have a mutually exclusive relationship, meaning an observation can belong to only one category, one-hot encoding introduces redundancy since all columns are inherently correlated.\n",
    "Example: In a dataset with a \"Day_of_Week\" variable (Monday, Tuesday, ..., Sunday), using one-hot encoding would create seven binary columns. However, each row can only have a single \"1\" in one of these columns, making the information redundant. Nominal encoding with numerical labels (1 to 7) suffices.\n",
    "Interpretability and Simplicity:\n",
    "\n",
    "Scenario: In cases where interpretability is essential, and the order of categories doesn't carry meaningful information, nominal encoding provides a simpler representation.\n",
    "Example: A \"Car_Model\" variable with categories like \"Sedan,\" \"SUV,\" and \"Hatchback\" might not have a natural order. Using nominal encoding (1 for Sedan, 2 for SUV, 3 for Hatchback) is more straightforward than one-hot encoding in this context.\n",
    "Handling High Cardinality:\n",
    "\n",
    "Scenario: Dealing with categorical variables with high cardinality (a large number of unique values) can be challenging with one-hot encoding due to increased dimensionality.\n",
    "Example: A \"Product_ID\" variable in an e-commerce dataset might have thousands of unique products. One-hot encoding would result in a massive number of columns. Nominal encoding with numerical labels can be a more practical approach in such cases.\n",
    "\n",
    "\"\"\""
   ]
  },
  {
   "cell_type": "markdown",
   "metadata": {},
   "source": [
    "Q4. Suppose you have a dataset containing categorical data with 5 unique values. Which encoding\n",
    "technique would you use to transform this data into a format suitable for machine learning algorithms?\n",
    "Explain why you made this choice."
   ]
  },
  {
   "cell_type": "code",
   "execution_count": 4,
   "metadata": {},
   "outputs": [
    {
     "data": {
      "text/plain": [
       "\"\\nThe choice of encoding technique depends on the nature of the categorical data and its specific characteristics. In the given scenario with a dataset containing categorical data with 5 unique values, several encoding techniques could be considered. Two common approaches are nominal encoding and one-hot encoding. The choice between these techniques depends on the nature of the data and the requirements of the machine learning algorithm.\\n\\nNominal Encoding:\\n\\nDescription: Assigning a unique numerical label to each category without implying any order.\\nExample: If the 5 unique values represent categories without a meaningful ordinal relationship, nominal encoding could be suitable.\\nReasoning: Nominal encoding is simpler and more compact when dealing with a small number of categories. It reduces dimensionality compared to one-hot encoding, making it more efficient for datasets with a limited number of unique values.\\n\\nOriginal Data: A, B, C, D, E\\n\\nOne-Hot Encoding:\\n| A | B | C | D | E |\\n|---|---|---|---|---|\\n| 1 | 0 | 0 | 0 | 0 |\\n| 0 | 1 | 0 | 0 | 0 |\\n| 0 | 0 | 1 | 0 | 0 |\\n| 0 | 0 | 0 | 1 | 0 |\\n| 0 | 0 | 0 | 0 | 1 |\\n\\n\\nDecision:\\n\\nIf the 5 unique values represent categories without a meaningful order and the data is relatively simple, nominal encoding might be preferred for its simplicity and efficiency in terms of dimensionality.\\n\\nIf the data points can belong to multiple categories and there is no ordinal relationship among the categories, one-hot encoding may be considered to ensure that the algorithm doesn't interpret any ordinal relationship.\\n\\nIn summary, the decision between nominal encoding and one-hot encoding depends on the characteristics of the categorical data and the requirements of the specific machine learning algorithm being used.\\n\""
      ]
     },
     "execution_count": 4,
     "metadata": {},
     "output_type": "execute_result"
    }
   ],
   "source": [
    "\"\"\"\n",
    "The choice of encoding technique depends on the nature of the categorical data and its specific characteristics. In the given scenario with a dataset containing categorical data with 5 unique values, several encoding techniques could be considered. Two common approaches are nominal encoding and one-hot encoding. The choice between these techniques depends on the nature of the data and the requirements of the machine learning algorithm.\n",
    "\n",
    "Nominal Encoding:\n",
    "\n",
    "Description: Assigning a unique numerical label to each category without implying any order.\n",
    "Example: If the 5 unique values represent categories without a meaningful ordinal relationship, nominal encoding could be suitable.\n",
    "Reasoning: Nominal encoding is simpler and more compact when dealing with a small number of categories. It reduces dimensionality compared to one-hot encoding, making it more efficient for datasets with a limited number of unique values.\n",
    "\n",
    "Original Data: A, B, C, D, E\n",
    "\n",
    "One-Hot Encoding:\n",
    "| A | B | C | D | E |\n",
    "|---|---|---|---|---|\n",
    "| 1 | 0 | 0 | 0 | 0 |\n",
    "| 0 | 1 | 0 | 0 | 0 |\n",
    "| 0 | 0 | 1 | 0 | 0 |\n",
    "| 0 | 0 | 0 | 1 | 0 |\n",
    "| 0 | 0 | 0 | 0 | 1 |\n",
    "\n",
    "\n",
    "Decision:\n",
    "\n",
    "If the 5 unique values represent categories without a meaningful order and the data is relatively simple, nominal encoding might be preferred for its simplicity and efficiency in terms of dimensionality.\n",
    "\n",
    "If the data points can belong to multiple categories and there is no ordinal relationship among the categories, one-hot encoding may be considered to ensure that the algorithm doesn't interpret any ordinal relationship.\n",
    "\n",
    "In summary, the decision between nominal encoding and one-hot encoding depends on the characteristics of the categorical data and the requirements of the specific machine learning algorithm being used.\n",
    "\"\"\"\n",
    "\n"
   ]
  },
  {
   "cell_type": "markdown",
   "metadata": {},
   "source": [
    "Q5. In a machine learning project, you have a dataset with 1000 rows and 5 columns. Two of the columns\n",
    "are categorical, and the remaining three columns are numerical. If you were to use nominal encoding to\n",
    "transform the categorical data, how many new columns would be created? Show your calculations."
   ]
  },
  {
   "cell_type": "code",
   "execution_count": 5,
   "metadata": {},
   "outputs": [
    {
     "name": "stdout",
     "output_type": "stream",
     "text": [
      "Total number of new columns created due to nominal encoding: 6\n"
     ]
    }
   ],
   "source": [
    "def calculate_nominal_encoding_columns(N1, N2):\n",
    "    # Calculate the total number of new columns created due to nominal encoding\n",
    "    total_new_columns = (N1 - 1) + (N2 - 1)\n",
    "    return total_new_columns\n",
    "\n",
    "# Example values for the number of unique categories in the two categorical columns\n",
    "unique_categories_column1 = 5\n",
    "unique_categories_column2 = 3\n",
    "\n",
    "# Calculate the total number of new columns created\n",
    "total_new_columns = calculate_nominal_encoding_columns(unique_categories_column1, unique_categories_column2)\n",
    "\n",
    "# Display the result\n",
    "print(f\"Total number of new columns created due to nominal encoding: {total_new_columns}\")\n"
   ]
  },
  {
   "cell_type": "markdown",
   "metadata": {},
   "source": [
    "Q6. You are working with a dataset containing information about different types of animals, including their\n",
    "species, habitat, and diet. Which encoding technique would you use to transform the categorical data into\n",
    "a format suitable for machine learning algorithms? Justify your answer."
   ]
  },
  {
   "cell_type": "code",
   "execution_count": 6,
   "metadata": {},
   "outputs": [
    {
     "name": "stdout",
     "output_type": "stream",
     "text": [
      "Original Data:\n",
      "    Species    Habitat       Diet  Species_Encoded\n",
      "0      Lion   Savannah  Carnivore                2\n",
      "1   Giraffe     Forest  Herbivore                3\n",
      "2     Zebra  Grassland  Herbivore                1\n",
      "3      Lion   Savannah  Carnivore                2\n",
      "4  Elephant     Jungle  Herbivore                4\n",
      "\n",
      "Nominal Encoding for 'Species':\n",
      "    Species  Species_Encoded\n",
      "0      Lion                2\n",
      "1   Giraffe                3\n",
      "2     Zebra                1\n",
      "3      Lion                2\n",
      "4  Elephant                4\n",
      "\n",
      "One-Hot Encoding for 'Habitat' and 'Diet':\n",
      "    Species  Species_Encoded  Habitat_Forest  Habitat_Grassland  \\\n",
      "0      Lion                2           False              False   \n",
      "1   Giraffe                3            True              False   \n",
      "2     Zebra                1           False               True   \n",
      "3      Lion                2           False              False   \n",
      "4  Elephant                4           False              False   \n",
      "\n",
      "   Habitat_Jungle  Habitat_Savannah  Diet_Carnivore  Diet_Herbivore  \n",
      "0           False              True            True           False  \n",
      "1           False             False           False            True  \n",
      "2           False             False           False            True  \n",
      "3           False              True            True           False  \n",
      "4            True             False           False            True  \n"
     ]
    }
   ],
   "source": [
    "import pandas as pd\n",
    "\n",
    "# Sample dataset\n",
    "data = {\n",
    "    'Species': ['Lion', 'Giraffe', 'Zebra', 'Lion', 'Elephant'],\n",
    "    'Habitat': ['Savannah', 'Forest', 'Grassland', 'Savannah', 'Jungle'],\n",
    "    'Diet': ['Carnivore', 'Herbivore', 'Herbivore', 'Carnivore', 'Herbivore']\n",
    "}\n",
    "\n",
    "df = pd.DataFrame(data)\n",
    "\n",
    "# Nominal encoding for 'Species'\n",
    "species_encoding = {species: label for label, species in enumerate(set(df['Species']), start=1)}\n",
    "df['Species_Encoded'] = df['Species'].map(species_encoding)\n",
    "\n",
    "# One-hot encoding for 'Habitat' and 'Diet'\n",
    "df_encoded = pd.get_dummies(df, columns=['Habitat', 'Diet'], prefix=['Habitat', 'Diet'])\n",
    "\n",
    "# Display the encoded dataframe\n",
    "print(\"Original Data:\")\n",
    "print(df)\n",
    "print(\"\\nNominal Encoding for 'Species':\")\n",
    "print(df[['Species', 'Species_Encoded']])\n",
    "print(\"\\nOne-Hot Encoding for 'Habitat' and 'Diet':\")\n",
    "print(df_encoded)\n",
    "\n",
    "# Save the encoded dataframe to a CSV file\n",
    "df_encoded.to_csv('encoded_animals_data.csv', index=False)\n"
   ]
  },
  {
   "cell_type": "markdown",
   "metadata": {},
   "source": [
    "Q7.You are working on a project that involves predicting customer churn for a telecommunications\n",
    "company. You have a dataset with 5 features, including the customer's gender, age, contract type,\n",
    "monthly charges, and tenure. Which encoding technique(s) would you use to transform the categorical\n",
    "data into numerical data? Provide a step-by-step explanation of how you would implement the encoding."
   ]
  },
  {
   "cell_type": "code",
   "execution_count": 7,
   "metadata": {},
   "outputs": [
    {
     "name": "stdout",
     "output_type": "stream",
     "text": [
      "Unique values in 'Gender': ['Male' 'Female']\n",
      "Unique values in 'Contract_Type': ['Month-to-month' 'Two-year' 'One-year']\n",
      "\n",
      "Final Encoded Dataset:\n",
      "   Age  Monthly_Charges  Tenure  Gender_Binary  Age  Monthly_Charges  Tenure  \\\n",
      "0   25             50.0      12              0   25             50.0      12   \n",
      "1   30             80.0      24              1   30             80.0      24   \n",
      "2   22             60.0       6              0   22             60.0       6   \n",
      "3   35             75.0      18              1   35             75.0      18   \n",
      "4   40             90.0      36              0   40             90.0      36   \n",
      "\n",
      "   Gender_Binary  Contract_Month-to-month  Contract_One-year  \\\n",
      "0              0                     True              False   \n",
      "1              1                    False              False   \n",
      "2              0                    False               True   \n",
      "3              1                     True              False   \n",
      "4              0                    False              False   \n",
      "\n",
      "   Contract_Two-year  \n",
      "0              False  \n",
      "1               True  \n",
      "2              False  \n",
      "3              False  \n",
      "4               True  \n"
     ]
    }
   ],
   "source": [
    "import pandas as pd\n",
    "\n",
    "# Sample dataset\n",
    "data = {\n",
    "    'Gender': ['Male', 'Female', 'Male', 'Female', 'Male'],\n",
    "    'Contract_Type': ['Month-to-month', 'Two-year', 'One-year', 'Month-to-month', 'Two-year'],\n",
    "    'Age': [25, 30, 22, 35, 40],\n",
    "    'Monthly_Charges': [50.0, 80.0, 60.0, 75.0, 90.0],\n",
    "    'Tenure': [12, 24, 6, 18, 36],\n",
    "}\n",
    "\n",
    "df = pd.DataFrame(data)\n",
    "\n",
    "# Step 1: Inspect the Data\n",
    "print(\"Unique values in 'Gender':\", df['Gender'].unique())\n",
    "print(\"Unique values in 'Contract_Type':\", df['Contract_Type'].unique())\n",
    "\n",
    "# Step 2: Choose Encoding Techniques\n",
    "# Binary encoding for 'Gender'\n",
    "# One-hot encoding for 'Contract_Type'\n",
    "\n",
    "# Step 3: Implement Encoding\n",
    "# Binary encoding for 'Gender'\n",
    "gender_mapping = {'Male': 0, 'Female': 1}\n",
    "df['Gender_Binary'] = df['Gender'].map(gender_mapping)\n",
    "\n",
    "# One-hot encoding for 'Contract_Type'\n",
    "df_encoded = pd.get_dummies(df, columns=['Contract_Type'], prefix='Contract')\n",
    "\n",
    "# Step 4: Concatenate Encoded DataFrames\n",
    "df_final = pd.concat([df, df_encoded], axis=1)\n",
    "\n",
    "# Step 5: Replace Original Categorical Columns\n",
    "df_final.drop(['Gender', 'Contract_Type'], axis=1, inplace=True)\n",
    "\n",
    "# Step 6: Final Dataset\n",
    "print(\"\\nFinal Encoded Dataset:\")\n",
    "print(df_final)\n",
    "\n",
    "# Save the encoded dataset to a CSV file\n",
    "df_final.to_csv('encoded_churn_data.csv', index=False)\n"
   ]
  }
 ],
 "metadata": {
  "kernelspec": {
   "display_name": "Python 3",
   "language": "python",
   "name": "python3"
  },
  "language_info": {
   "codemirror_mode": {
    "name": "ipython",
    "version": 3
   },
   "file_extension": ".py",
   "mimetype": "text/x-python",
   "name": "python",
   "nbconvert_exporter": "python",
   "pygments_lexer": "ipython3",
   "version": "3.11.3"
  }
 },
 "nbformat": 4,
 "nbformat_minor": 2
}
